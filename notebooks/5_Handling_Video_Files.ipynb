{
 "cells": [
  {
   "cell_type": "markdown",
   "metadata": {},
   "source": [
    "# Handling Video Files"
   ]
  },
  {
   "cell_type": "markdown",
   "metadata": {},
   "source": [
    "Sometimes it is necessary to read a sequence of images from a standard video file, such as `.avi` and `.mov` files.\n",
    "In a scientific context, it is usually better to avoid these formats in favor of a simple directory of images or a multi-dimensional TIF. Video formats are more difficult to read piecemeal, typically do not support random frame access or research-minded meta data, and use lossy compression if not carefully configured. But video files are in widespread use, and they are easy to share, so it is convenient to be equipped to read and write them when necessary.\n",
    "\n",
    "Tools for reading video files vary in their ease of installation and use, their disk and memory usage, and theit cross-platform compatibility. This is a practical guide."
   ]
  },
  {
   "cell_type": "markdown",
   "metadata": {},
   "source": [
    "## A Workaround: Convert the Video to an Image Sequence"
   ]
  },
  {
   "cell_type": "markdown",
   "metadata": {},
   "source": [
    "For a one-off solution, the simplest, surest route is to convert the video to a collection of sequentially-numbered image files, often called an image sequence. Then the image files can be read into an **ImageCollection** by `skimage.io.imread_collection`. Converting the videos to frames can be dome easily in **ImageJ**, a cross-platform, GUI-based program from the bio-imaging community, or **FFmpeg**, a powerful command-line utility for manipulating video files. \n",
    "\n",
    "In FFmpeg, the following command generates an image file from each frame in a video. The files are numbered with five digits, padded on the left with zeros."
   ]
  },
  {
   "cell_type": "code",
   "execution_count": 1,
   "metadata": {},
   "outputs": [],
   "source": [
    "# ffmpeg -i \"video.mov\" -f image2 \"video-frame%05d.png\""
   ]
  },
  {
   "cell_type": "markdown",
   "metadata": {},
   "source": [
    "More information is available in an [FFmpeg tutorial on image sequences.](https://en.wikibooks.org/wiki/FFMPEG_An_Intermediate_Guide/image_sequence#Making_an_Image_Sequence_from_a_video).\n",
    "\n",
    "Generating an image sequence has disadvantages: they can be large and unwieldy, and generating them can take some time. It is generally preferable to work directly with the original video file. For a more direct solution, we need to execute FFmpeg or LibAV from Python to read frames from the video. FFmpeg and LibAV are two large open-source projects that decode video from the sprawling variety of formats used in the wild. There are several ways to use them from Python. Each, unfortunately, has some disadvantages."
   ]
  },
  {
   "cell_type": "markdown",
   "metadata": {},
   "source": [
    "## PyAV"
   ]
  },
  {
   "cell_type": "markdown",
   "metadata": {},
   "source": [
    "**PyAV** uses FFmpeg's (or LibAV's) libraries to read image data directly from the video file. it invokes them using Cython binding, so it is very fast."
   ]
  },
  {
   "cell_type": "code",
   "execution_count": 2,
   "metadata": {},
   "outputs": [],
   "source": [
    "# import av\n",
    "# v = av.open('path/to/video.mov')"
   ]
  },
  {
   "cell_type": "markdown",
   "metadata": {},
   "source": [
    "PyAV's API reflects the way frames are stored in a video file."
   ]
  },
  {
   "cell_type": "code",
   "execution_count": 3,
   "metadata": {},
   "outputs": [],
   "source": [
    "# for packet in container.demux():\n",
    "#     for frame in packet.decode():\n",
    "#         if frame.type == 'video':\n",
    "#             img = frame.to_image()  # PIL/Pillow image\n",
    "#             arr = np.asarray(img)  # numpy array\n",
    "#             # Do something!"
   ]
  },
  {
   "cell_type": "markdown",
   "metadata": {},
   "source": [
    "## Adding Random Access to PyAV"
   ]
  },
  {
   "cell_type": "markdown",
   "metadata": {},
   "source": [
    "The **Video** class in **PIMS** invokes PyAV and adds additional functionality to solve a common problem in scientific applications, accessing a video by frame number. Video file formats are designed to be searched in an approximate way, by time, and they do not support an efficient means of seekinga spedific frame number. PIMS adds this missing functionality by decoding (but not reading) the entire video and producing an internal table of contents that supports indexing by frame."
   ]
  },
  {
   "cell_type": "code",
   "execution_count": 4,
   "metadata": {},
   "outputs": [],
   "source": [
    "# import pims\n",
    "# v = pims.Video('path/to/video.mov')\n",
    "# v[-1]  # a 2D numpy array representing the last frame"
   ]
  },
  {
   "cell_type": "markdown",
   "metadata": {},
   "source": [
    "## MoviePy"
   ]
  },
  {
   "cell_type": "markdown",
   "metadata": {},
   "source": [
    "**Moviepy** invokes FFmpeg through a subprocess, pipes the decoded video from FFmpeg into RAM, and reads it out. This approach is straightfoward, but it can be brittle, and it's not workable for large videos that exceed available RAM. It works on all platforms if FFmpeg is installed.\n",
    "\n",
    "Since it does not link to FFmpeg's underlying libraries, it is easier to install but half as fast."
   ]
  },
  {
   "cell_type": "code",
   "execution_count": 5,
   "metadata": {},
   "outputs": [],
   "source": [
    "# from moviepy.editor import VideoFileClip\n",
    "# myclip = VideoFileClip(\"some_video.avi\")"
   ]
  },
  {
   "cell_type": "markdown",
   "metadata": {},
   "source": [
    "## Imageio"
   ]
  },
  {
   "cell_type": "markdown",
   "metadata": {},
   "source": [
    "**Imageio** taes the same approach as MoviePy. It supports a wide range of image file formats as well."
   ]
  },
  {
   "cell_type": "code",
   "execution_count": 6,
   "metadata": {},
   "outputs": [],
   "source": [
    "# import imageio\n",
    "# filename = '/tmp/file.mp4'\n",
    "# vid = imageio.get_reader(filename,  'ffmpeg')\n",
    "\n",
    "# for num, image in vid.iter_data():\n",
    "#     print(image.mean())\n",
    "\n",
    "# metadata = vid.get_meta_data()"
   ]
  },
  {
   "cell_type": "markdown",
   "metadata": {},
   "source": [
    "## OpenCV"
   ]
  },
  {
   "cell_type": "markdown",
   "metadata": {},
   "source": [
    "Finally, another solution is the **VideoReader** class in OpenCV, which has bindings to FFmpeg. If you need OpenCV for other reasons, then this may be the best approach."
   ]
  }
 ],
 "metadata": {
  "kernelspec": {
   "display_name": "Python 3",
   "language": "python",
   "name": "python3"
  },
  "language_info": {
   "codemirror_mode": {
    "name": "ipython",
    "version": 3
   },
   "file_extension": ".py",
   "mimetype": "text/x-python",
   "name": "python",
   "nbconvert_exporter": "python",
   "pygments_lexer": "ipython3",
   "version": "3.7.3"
  }
 },
 "nbformat": 4,
 "nbformat_minor": 4
}
