{
 "cells": [
  {
   "cell_type": "markdown",
   "metadata": {},
   "source": [
    "# I/O Plugin Infrastructure"
   ]
  },
  {
   "cell_type": "markdown",
   "metadata": {},
   "source": [
    "A plugin consists of two files, the source and the descriptor `.ini`. Let's say we'd like to provide a plugin for `imshow` and `matplotlib`. We'll call our plugin `mpl`:"
   ]
  },
  {
   "cell_type": "code",
   "execution_count": 1,
   "metadata": {},
   "outputs": [],
   "source": [
    "# skimage/io/_plugins/mpl.py\n",
    "# skimage/io/_plugins/mpl.ini"
   ]
  },
  {
   "cell_type": "markdown",
   "metadata": {},
   "source": [
    "The name of the `.py` and `.ini` files must correspond. Inside the `.ini` file, we give the plugin meta-data:"
   ]
  },
  {
   "cell_type": "code",
   "execution_count": 2,
   "metadata": {},
   "outputs": [],
   "source": [
    "# [mpl] <-- name of the plugin, may be anything\n",
    "# description = Matplotlib image I/O plugin\n",
    "# provides = imshow <-- a comma-separated list, one or more of\n",
    "#                       imshow, imsave, imread, _app_show"
   ]
  },
  {
   "cell_type": "markdown",
   "metadata": {},
   "source": [
    "The \"provides\"-line lists all the functions provided by the plugin. Since our plugin provides `imshow`, we have to define it inside `mpl.py`:"
   ]
  },
  {
   "cell_type": "code",
   "execution_count": 3,
   "metadata": {},
   "outputs": [],
   "source": [
    "# This is mpl.py\n",
    "\n",
    "# import matplotlib.pyplot as plt\n",
    "\n",
    "# def imshow(img):\n",
    "#    plt.imshow(img)"
   ]
  },
  {
   "cell_type": "markdown",
   "metadata": {},
   "source": [
    "Note that, by default, `imshow` is non-blocking, so a special function `_app_show` must be provided to block the GUI. We can modify our plugin to provide it as follows:"
   ]
  },
  {
   "cell_type": "code",
   "execution_count": 4,
   "metadata": {},
   "outputs": [],
   "source": [
    "# [mpl]\n",
    "# provides = imshow, _app_show"
   ]
  },
  {
   "cell_type": "code",
   "execution_count": 5,
   "metadata": {},
   "outputs": [],
   "source": [
    "# This is mpl.py\n",
    "\n",
    "# import matplotlib.pyplot as plt\n",
    "\n",
    "# def imshow(img):\n",
    "#     plt.imshow(img)\n",
    "\n",
    "# def _app_show():\n",
    "#     plt.show()"
   ]
  },
  {
   "cell_type": "markdown",
   "metadata": {},
   "source": [
    "Any plugin in the `_plugins` directory is automatically examined by `skimage.io` upon import. You may list all the plugins on your system:"
   ]
  },
  {
   "cell_type": "code",
   "execution_count": 6,
   "metadata": {},
   "outputs": [],
   "source": [
    "# import skimage.io as io\n",
    "# io.find_available_plugins()"
   ]
  },
  {
   "cell_type": "markdown",
   "metadata": {},
   "source": [
    "or only those already loaded:"
   ]
  },
  {
   "cell_type": "code",
   "execution_count": 7,
   "metadata": {},
   "outputs": [],
   "source": [
    "# io.find_available_plugins(loaded=True)"
   ]
  },
  {
   "cell_type": "markdown",
   "metadata": {},
   "source": [
    "A plugin is loaded using the `use_plugin` command:"
   ]
  },
  {
   "cell_type": "code",
   "execution_count": 8,
   "metadata": {},
   "outputs": [],
   "source": [
    "# import skimage.io as io\n",
    "# io.use_plugin('pil') # Use all capabilities provided by PIL"
   ]
  },
  {
   "cell_type": "markdown",
   "metadata": {},
   "source": [
    "or"
   ]
  },
  {
   "cell_type": "code",
   "execution_count": 9,
   "metadata": {},
   "outputs": [],
   "source": [
    "# io.use_plugin('pil', 'imread') # Use only the imread capability of PIL"
   ]
  },
  {
   "cell_type": "markdown",
   "metadata": {},
   "source": [
    "Note that, if more than ine plugin provides certain functionality, the last plugin loaded is used.\n",
    "\n",
    "To query a plugin's capabilities, use `plugin_info`:"
   ]
  },
  {
   "cell_type": "code",
   "execution_count": 10,
   "metadata": {},
   "outputs": [],
   "source": [
    "# import skimage.io as io\n",
    "# io.find_available_plugins()"
   ]
  }
 ],
 "metadata": {
  "kernelspec": {
   "display_name": "Python 3",
   "language": "python",
   "name": "python3"
  },
  "language_info": {
   "codemirror_mode": {
    "name": "ipython",
    "version": 3
   },
   "file_extension": ".py",
   "mimetype": "text/x-python",
   "name": "python",
   "nbconvert_exporter": "python",
   "pygments_lexer": "ipython3",
   "version": "3.7.3"
  }
 },
 "nbformat": 4,
 "nbformat_minor": 4
}
