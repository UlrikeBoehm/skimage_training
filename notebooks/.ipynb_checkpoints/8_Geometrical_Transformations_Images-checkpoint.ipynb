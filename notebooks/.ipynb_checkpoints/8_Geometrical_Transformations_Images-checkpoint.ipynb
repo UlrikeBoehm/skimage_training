{
 "cells": [
  {
   "cell_type": "code",
   "execution_count": 5,
   "metadata": {},
   "outputs": [],
   "source": [
    "import numpy as np"
   ]
  },
  {
   "cell_type": "markdown",
   "metadata": {},
   "source": [
    "# Geometrical transformations of images"
   ]
  },
  {
   "cell_type": "markdown",
   "metadata": {},
   "source": [
    "## Cropping, resizing and rescaling images"
   ]
  },
  {
   "cell_type": "markdown",
   "metadata": {},
   "source": [
    "Images being NumPy arays, cropping an image can be done with simple slicing operations. Below we crop a 100x100 square corresponding to the top-left corner of the astronaut image. Note that this operation is done for all color channels (the color dimension is the last, third dimension):"
   ]
  },
  {
   "cell_type": "code",
   "execution_count": 1,
   "metadata": {},
   "outputs": [],
   "source": [
    "from skimage import data \n",
    "img = data.astronaut()\n",
    "top_left = img[:100,:100]"
   ]
  },
  {
   "cell_type": "markdown",
   "metadata": {},
   "source": [
    "In order to change the shape of the image, `skimage.color` provides several functions described in **Rescale, resize, and downscale**."
   ]
  },
  {
   "cell_type": "code",
   "execution_count": 3,
   "metadata": {},
   "outputs": [],
   "source": [
    "from skimage import data, color\n",
    "from skimage.transform import rescale, resize, downscale_local_mean\n",
    "\n",
    "image = color.rgb2gray(data.astronaut())\n",
    "\n",
    "image_rescale = rescale(image,0.25,anti_aliasing=False)\n",
    "image_resized = resize(image,(image.shape[0]//4,image.shape[1]//4),\n",
    "                      anti_aliasing=True)\n",
    "image_downscaled = downscale_local_mean(image,(4,3))"
   ]
  },
  {
   "cell_type": "markdown",
   "metadata": {},
   "source": [
    "## Projective transforms (homographies)"
   ]
  },
  {
   "cell_type": "markdown",
   "metadata": {},
   "source": [
    "Homographies are transformations of a Euclidean space that preserve the alignment of points. Sepcific cases of homographies correspond to the conversation of mre properties, such as parallelism (affine transformation), shape (similar transformation) or distances (Euclidean transformation). The different types of homographies available in scikit-image are presented in **Type of homographies**.\n",
    "\n",
    "Projective transformations can either be created using the explicit parameters (e.g., sclae, shear, rotation and translation):"
   ]
  },
  {
   "cell_type": "code",
   "execution_count": 6,
   "metadata": {},
   "outputs": [],
   "source": [
    "from skimage import data\n",
    "from skimage import transform\n",
    "from skimage import img_as_float\n",
    "\n",
    "tform = transform.EuclideanTransform(\n",
    "    rotation=np.pi/12.,\n",
    "    translation=(100,-20)\n",
    ")"
   ]
  },
  {
   "cell_type": "markdown",
   "metadata": {},
   "source": [
    "or the full transformation matrix:"
   ]
  },
  {
   "cell_type": "code",
   "execution_count": 7,
   "metadata": {},
   "outputs": [],
   "source": [
    "from skimage import data\n",
    "from skimage import transform\n",
    "from skimage import img_as_float\n",
    "\n",
    "matrix = np.array([[np.cos(np.pi/12),-np.sin(np.pi/12),100],\n",
    "                  [np.sin(np.pi/12),np.cos(np.pi/12),-20],\n",
    "                  [0,0,1]])\n",
    "tform = transform.EuclideanTransform(matrix)"
   ]
  },
  {
   "cell_type": "markdown",
   "metadata": {},
   "source": [
    "The transformation matrix of a transform is available as its `tform.params` attribute. Transformations can be composed by multiplying matrices with the `@` matrix mulriplication operator.\n",
    "\n",
    "Transformation matrices use ..."
   ]
  }
 ],
 "metadata": {
  "kernelspec": {
   "display_name": "Python 3",
   "language": "python",
   "name": "python3"
  },
  "language_info": {
   "codemirror_mode": {
    "name": "ipython",
    "version": 3
   },
   "file_extension": ".py",
   "mimetype": "text/x-python",
   "name": "python",
   "nbconvert_exporter": "python",
   "pygments_lexer": "ipython3",
   "version": "3.7.3"
  }
 },
 "nbformat": 4,
 "nbformat_minor": 4
}
