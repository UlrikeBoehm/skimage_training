{
 "cells": [
  {
   "cell_type": "code",
   "execution_count": 1,
   "metadata": {},
   "outputs": [],
   "source": [
    "import numpy as np\n",
    "import matplotlib.pyplot as plt"
   ]
  },
  {
   "cell_type": "markdown",
   "metadata": {},
   "source": [
    "# Tutorials: How to parallelize loops"
   ]
  },
  {
   "cell_type": "markdown",
   "metadata": {},
   "source": [
    "In image processing, we frequently apply the same algorithm on a batch of images. In this paragraph, we propose to use `joblib` to parallelize loops. Here is an example of such repetitive tasks:"
   ]
  },
  {
   "cell_type": "code",
   "execution_count": 2,
   "metadata": {},
   "outputs": [],
   "source": [
    "from skimage import data, color, util\n",
    "from skimage.restoration import denoise_tv_chambolle\n",
    "from skimage.feature import hog\n",
    "\n",
    "def task(image):\n",
    "    \"\"\"\n",
    "    Apply some functions and return an image.\n",
    "    \"\"\"\n",
    "    image = denoise_tv_chambolle(image[0][0], weight=0.1, multichannel=True)\n",
    "    fd, hog_image = hog(color.rgb2gray(image), orientations=8,\n",
    "                        pixels_per_cell=(16, 16), cells_per_block=(1, 1),\n",
    "                        visualize=True)\n",
    "    return hog_image\n",
    "\n",
    "\n",
    "# Prepare images\n",
    "hubble = data.hubble_deep_field()\n",
    "width = 10\n",
    "pics = util.view_as_windows(hubble, (width, hubble.shape[1], hubble.shape[2]), step=width)"
   ]
  },
  {
   "cell_type": "markdown",
   "metadata": {},
   "source": [
    "To call the function `task` on each element of the list `pics`, it is usual to write a for loop. To measure the execution time of this loop, you can use ipython and measure the execution time woth `%timeit`."
   ]
  },
  {
   "cell_type": "code",
   "execution_count": 3,
   "metadata": {},
   "outputs": [
    {
     "name": "stdout",
     "output_type": "stream",
     "text": [
      "1.54 s ± 49.2 ms per loop (mean ± std. dev. of 7 runs, 1 loop each)\n"
     ]
    }
   ],
   "source": [
    "def classic_loop():\n",
    "    for image in pics:\n",
    "        task(image)\n",
    "        \n",
    "%timeit classic_loop()"
   ]
  },
  {
   "cell_type": "markdown",
   "metadata": {},
   "source": [
    "Another equvalent way to code this loop is to use a comprehensive list which has the same efficiency."
   ]
  },
  {
   "cell_type": "code",
   "execution_count": 4,
   "metadata": {},
   "outputs": [
    {
     "name": "stdout",
     "output_type": "stream",
     "text": [
      "1.63 s ± 62.1 ms per loop (mean ± std. dev. of 7 runs, 1 loop each)\n"
     ]
    }
   ],
   "source": [
    "def comprehension_loop():\n",
    "    [task(image) for image in pics]\n",
    "\n",
    "%timeit comprehension_loop()"
   ]
  },
  {
   "cell_type": "markdown",
   "metadata": {},
   "source": [
    "`joblib` is a library providing an easy way to parallelize for loops once we have a cmprehensive list. The number of jobs can be specified."
   ]
  },
  {
   "cell_type": "code",
   "execution_count": 5,
   "metadata": {},
   "outputs": [
    {
     "name": "stdout",
     "output_type": "stream",
     "text": [
      "410 ms ± 4.14 ms per loop (mean ± std. dev. of 7 runs, 1 loop each)\n"
     ]
    }
   ],
   "source": [
    "from joblib import Parallel, delayed\n",
    "def joblib_loop():\n",
    "    Parallel(n_jobs=4)(delayed(task)(i) for i in pics)\n",
    "    \n",
    "%timeit joblib_loop()"
   ]
  }
 ],
 "metadata": {
  "kernelspec": {
   "display_name": "Python 3",
   "language": "python",
   "name": "python3"
  },
  "language_info": {
   "codemirror_mode": {
    "name": "ipython",
    "version": 3
   },
   "file_extension": ".py",
   "mimetype": "text/x-python",
   "name": "python",
   "nbconvert_exporter": "python",
   "pygments_lexer": "ipython3",
   "version": "3.7.3"
  }
 },
 "nbformat": 4,
 "nbformat_minor": 4
}
