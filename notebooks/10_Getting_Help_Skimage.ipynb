{
 "cells": [
  {
   "cell_type": "markdown",
   "metadata": {},
   "source": [
    "# Getting help on using `skimage`"
   ]
  },
  {
   "cell_type": "markdown",
   "metadata": {},
   "source": [
    "Besides the user guide, there exist other oppotunities to get help on using `skimage`."
   ]
  },
  {
   "cell_type": "markdown",
   "metadata": {},
   "source": [
    "## Example gallery"
   ]
  },
  {
   "cell_type": "markdown",
   "metadata": {},
   "source": [
    "The [General examples](https://scikit-image.org/docs/dev/auto_examples/index.html#examples-gallery) gallery provides graphical examples of typical image processing tasks.  By a quick glance at the diferent thumbnails, the user may find an example close to a typical use case of interest. Each graphical example page displays an introdutory paragraph, a figure, and the source code that generated the figure. Downloading the Python source code enables one to modify quickly th examples into a case closer to one's image processing aplication.\n",
    "\n",
    "Users are warmly encouraged to report on their use of `skimage` on the [Mailing-list](https://mail.python.org/mailman3/lists/scikit-image.python.org/), in order to propose more eamples in the future. Contributing examples to the gallery can be done on github (see [How to contribute to scikit-image](https://scikit-image.org/docs/dev/contribute.html#howto-contribute))."
   ]
  },
  {
   "cell_type": "markdown",
   "metadata": {},
   "source": [
    "## Search field"
   ]
  },
  {
   "cell_type": "markdown",
   "metadata": {},
   "source": [
    "The `quick search` field located in the navigation bar of the [html documentation](https://scikit-image.org/docs/dev/index.html) can be used to search for specfic keywords (segmentation, rescaling, denoising, etc."
   ]
  },
  {
   "cell_type": "markdown",
   "metadata": {},
   "source": [
    "## API Discovery"
   ]
  },
  {
   "cell_type": "markdown",
   "metadata": {},
   "source": [
    "NumPy provides a `lookfor` function to search API functions. By default `lookfor` will search the NumPy API. numPy lookfor example: \n",
    "\n",
    "`np.lookfor('eigenvector')`\n",
    "\n",
    "But it can be used to search in modules, by passing in the module name as a string:\n",
    "`np.lookfor('boundaries','skimage')`\n",
    "or the moldule itself. \n",
    "\n",
    "`> import skimage > np.lookfor('boundaries',skimage)`"
   ]
  },
  {
   "cell_type": "markdown",
   "metadata": {},
   "source": [
    "## Docstrings"
   ]
  },
  {
   "cell_type": "markdown",
   "metadata": {},
   "source": [
    "Docstring of `skimage` functions are formatted using [Numpy's documentation standard](https://github.com/numpy/numpy/blob/master/doc/HOWTO_DOCUMENT.rst.txt), starting with a **Parameters** section for the arguments and a **Returns** section for the objects returned by the function. Also, most functions include one or more examples."
   ]
  },
  {
   "cell_type": "markdown",
   "metadata": {},
   "source": [
    "## Mailing-list"
   ]
  },
  {
   "cell_type": "markdown",
   "metadata": {},
   "source": [
    "The scikit-image mailing-list is scikit-image@python.org (users should [join](https://mail.python.org/mailman3/lists/scikit-image.python.org/) before posting). The mailing-list is shared by users and developers, and it is the right place to ask any questions about `skimage`, or in general, image processing using Python. Posting snippets of code with minimal examples ensures to get more relevant and focused answers.\n",
    "\n",
    "We would love to hear from how you use `skimage` for your work on the mailing-list."
   ]
  }
 ],
 "metadata": {
  "kernelspec": {
   "display_name": "Python 3",
   "language": "python",
   "name": "python3"
  },
  "language_info": {
   "codemirror_mode": {
    "name": "ipython",
    "version": 3
   },
   "file_extension": ".py",
   "mimetype": "text/x-python",
   "name": "python",
   "nbconvert_exporter": "python",
   "pygments_lexer": "ipython3",
   "version": "3.7.3"
  }
 },
 "nbformat": 4,
 "nbformat_minor": 4
}
